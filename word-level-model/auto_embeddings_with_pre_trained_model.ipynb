{
 "cells": [
  {
   "cell_type": "code",
   "execution_count": null,
   "metadata": {},
   "outputs": [],
   "source": [
    "tokenizer = AutoTokenizer.from_pretrained(\"asafaya/bert-base-arabic\")\n",
    "model = AutoModel.from_pretrained(\"asafaya/bert-base-arabic\")\n",
    "\n",
    "def get_embeddings(text):\n",
    "    tokens = tokenizer(text, return_tensors=\"pt\", truncation=True, max_length=512)\n",
    "    model_output = model(**tokens)\n",
    "\n",
    "    return model_output.last_hidden_state.detach().numpy()\n",
    "\n",
    "# Assuming list_of_string_sentences is a list of undiacritized sentences\n",
    "undiacritized_sentences = list_of_string_sentences\n",
    "\n",
    "# Create a list of tuples, where each tuple contains an undiacritized sentence and its diacritized version\n",
    "paired_sentences = [(undiacritized_sentence, diacritized_sentence) for undiacritized_sentence, diacritized_sentence in zip(undiacritized_sentences, diacritized_sentences)]\n",
    "\n",
    "# Get embeddings for each paired sentence\n",
    "paired_sentences_embeddings = [(get_embeddings(undiacritized_sentence), diacritized_sentence) for undiacritized_sentence, diacritized_sentence in paired_sentences]\n",
    "\n",
    "print(len(paired_sentences_embeddings))\n"
   ]
  },
  {
   "cell_type": "code",
   "execution_count": null,
   "metadata": {},
   "outputs": [],
   "source": [
    "import torch\n",
    "from transformers import AutoTokenizer, AutoModelForTokenClassification, AdamW\n",
    "\n",
    "# Sample data (replace with your actual data)\n",
    "train_data = [(\"سلام\", \"سَلام\"), (\"مرحبا\", \"مَرحبًا\"), ...]\n",
    "dev_data = [(\"مرحبا\", \"مَرحبًا\"), ...]\n",
    "test_data = [(\"أهلا\", \"\"), ...]\n",
    "\n",
    "# Load pre-trained model and tokenizer\n",
    "model_name = \"asafaya/bert-base-arabic\"\n",
    "tokenizer = AutoTokenizer.from_pretrained(model_name)\n",
    "model = AutoModelForTokenClassification.from_pretrained(model_name, num_labels=len(tokenizer))\n",
    "\n",
    "# Tokenize and encode data\n",
    "train_encodings = tokenizer(train_data, return_tensors=\"pt\", padding=\"max_length\", truncation=True)\n",
    "dev_encodings = tokenizer(dev_data, return_tensors=\"pt\", padding=\"max_length\", truncation=True)\n",
    "test_encodings = tokenizer(test_data, return_tensors=\"pt\", padding=\"max_length\", truncation=True)\n",
    "\n",
    "# Extract labels from encoded data\n",
    "train_labels = torch.tensor([[label_ids] for label_ids in tokenizer(train_data[1], return_tensors=\"pt\")[\"input_ids\"]])\n",
    "dev_labels = torch.tensor([[label_ids] for label_ids in tokenizer(dev_data[1], return_tensors=\"pt\")[\"input_ids\"]])\n",
    "\n",
    "# Fine-tune the model\n",
    "optimizer = AdamW(model.parameters(), lr=2e-5)\n",
    "for epoch in range(3):\n",
    "    optimizer.zero_grad()\n",
    "    outputs = model(**train_encodings, labels=train_labels)\n",
    "    loss = outputs.loss\n",
    "    loss.backward()\n",
    "    optimizer.step()\n",
    "\n",
    "# Evaluate on dev set\n",
    "with torch.no_grad():\n",
    "    outputs = model(**dev_encodings, labels=dev_labels)\n",
    "    # Process outputs for evaluation\n",
    "\n",
    "# Test the model on the test set\n",
    "with torch.no_grad():\n",
    "    test_outputs = model(**test_encodings)\n",
    "    # Process test_outputs for testing\n"
   ]
  }
 ],
 "metadata": {
  "language_info": {
   "name": "python"
  }
 },
 "nbformat": 4,
 "nbformat_minor": 2
}
