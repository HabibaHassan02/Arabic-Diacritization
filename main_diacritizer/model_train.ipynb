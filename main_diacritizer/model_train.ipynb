{
 "cells": [
  {
   "cell_type": "code",
   "execution_count": 4,
   "metadata": {},
   "outputs": [
    {
     "ename": "AttributeError",
     "evalue": "module 'pyarabic.araby' has no attribute 'TANWEEN_FATHA'",
     "output_type": "error",
     "traceback": [
      "\u001b[1;31m---------------------------------------------------------------------------\u001b[0m",
      "\u001b[1;31mAttributeError\u001b[0m                            Traceback (most recent call last)",
      "Cell \u001b[1;32mIn[4], line 7\u001b[0m\n\u001b[0;32m      4\u001b[0m \u001b[38;5;28;01mfrom\u001b[39;00m \u001b[38;5;21;01mtensorflow\u001b[39;00m\u001b[38;5;21;01m.\u001b[39;00m\u001b[38;5;21;01mkeras\u001b[39;00m \u001b[38;5;28;01mimport\u001b[39;00m Model, Input\n\u001b[0;32m      5\u001b[0m \u001b[38;5;28;01mfrom\u001b[39;00m \u001b[38;5;21;01mtensorflow\u001b[39;00m\u001b[38;5;21;01m.\u001b[39;00m\u001b[38;5;21;01mkeras\u001b[39;00m\u001b[38;5;21;01m.\u001b[39;00m\u001b[38;5;21;01mlayers\u001b[39;00m \u001b[38;5;28;01mimport\u001b[39;00m Embedding, LSTM, Dense, Bidirectional\n\u001b[1;32m----> 7\u001b[0m \u001b[38;5;28;01mfrom\u001b[39;00m \u001b[38;5;21;01mconstants\u001b[39;00m \u001b[38;5;28;01mimport\u001b[39;00m \u001b[38;5;241m*\u001b[39m\n",
      "File \u001b[1;32md:\\MahyDolphin\\College_Stuff\\senior2\\NLP\\project\\Code\\Arabic-Diacritization\\main_diacritizer\\constants.py:97\u001b[0m\n\u001b[0;32m     46\u001b[0m CHAR_MAPPING_ENCODING \u001b[38;5;241m=\u001b[39m {\n\u001b[0;32m     47\u001b[0m     \u001b[38;5;124m'\u001b[39m\u001b[38;5;124m’ ’\u001b[39m\u001b[38;5;124m'\u001b[39m: \u001b[38;5;241m1\u001b[39m,\n\u001b[0;32m     48\u001b[0m     \u001b[38;5;124m'\u001b[39m\u001b[38;5;124m0-9\u001b[39m\u001b[38;5;124m'\u001b[39m: \u001b[38;5;241m2\u001b[39m,\n\u001b[1;32m   (...)\u001b[0m\n\u001b[0;32m     85\u001b[0m     \u001b[38;5;124m'\u001b[39m\u001b[38;5;124m \u001b[39m\u001b[38;5;124m'\u001b[39m:\u001b[38;5;241m0\u001b[39m\n\u001b[0;32m     86\u001b[0m }\n\u001b[0;32m     88\u001b[0m SHORT_VOWELS_MAPPING_ENCODING\u001b[38;5;241m=\u001b[39m{\n\u001b[0;32m     89\u001b[0m     \u001b[38;5;124m'\u001b[39m\u001b[38;5;124mNone\u001b[39m\u001b[38;5;124m'\u001b[39m:\u001b[38;5;241m0\u001b[39m,\n\u001b[0;32m     90\u001b[0m     araby\u001b[38;5;241m.\u001b[39mFATHA: \u001b[38;5;241m1\u001b[39m,\n\u001b[0;32m     91\u001b[0m     araby\u001b[38;5;241m.\u001b[39mDAMMA: \u001b[38;5;241m2\u001b[39m,\n\u001b[0;32m     92\u001b[0m     araby\u001b[38;5;241m.\u001b[39mKASRA: \u001b[38;5;241m3\u001b[39m\n\u001b[0;32m     93\u001b[0m }\n\u001b[0;32m     95\u001b[0m DOUBLE_CASE_ENDINGS_MAPPING_ENCODING\u001b[38;5;241m=\u001b[39m{\n\u001b[0;32m     96\u001b[0m     \u001b[38;5;124m'\u001b[39m\u001b[38;5;124mNone\u001b[39m\u001b[38;5;124m'\u001b[39m:\u001b[38;5;241m0\u001b[39m,\n\u001b[1;32m---> 97\u001b[0m     \u001b[43maraby\u001b[49m\u001b[38;5;241;43m.\u001b[39;49m\u001b[43mTANWEEN_FATHA\u001b[49m: \u001b[38;5;241m1\u001b[39m,\n\u001b[0;32m     98\u001b[0m     araby\u001b[38;5;241m.\u001b[39mTANWEEN_DAMMA: \u001b[38;5;241m2\u001b[39m,\n\u001b[0;32m     99\u001b[0m     araby\u001b[38;5;241m.\u001b[39mTANWEEN_KASRA: \u001b[38;5;241m3\u001b[39m\n\u001b[0;32m    100\u001b[0m }\n\u001b[0;32m    102\u001b[0m SHADDA_MAPPING_ENCODING\u001b[38;5;241m=\u001b[39m{\n\u001b[0;32m    103\u001b[0m     \u001b[38;5;124m'\u001b[39m\u001b[38;5;124mNone\u001b[39m\u001b[38;5;124m'\u001b[39m:\u001b[38;5;241m0\u001b[39m,\n\u001b[0;32m    104\u001b[0m     araby\u001b[38;5;241m.\u001b[39mSHADDA:\u001b[38;5;241m1\u001b[39m\n\u001b[0;32m    105\u001b[0m }\n\u001b[0;32m    106\u001b[0m SUKUN_MAPPING_ENCODING\u001b[38;5;241m=\u001b[39m{\n\u001b[0;32m    107\u001b[0m     \u001b[38;5;124m'\u001b[39m\u001b[38;5;124mNone\u001b[39m\u001b[38;5;124m'\u001b[39m:\u001b[38;5;241m0\u001b[39m,\n\u001b[0;32m    108\u001b[0m     araby\u001b[38;5;241m.\u001b[39mSUKOON:\u001b[38;5;241m1\u001b[39m\n\u001b[0;32m    109\u001b[0m }\n",
      "\u001b[1;31mAttributeError\u001b[0m: module 'pyarabic.araby' has no attribute 'TANWEEN_FATHA'"
     ]
    }
   ],
   "source": [
    "import numpy as np\n",
    "import tensorflow as tf\n",
    "\n",
    "from tensorflow.keras import Model, Input\n",
    "from tensorflow.keras.layers import Embedding, LSTM, Dense, Bidirectional\n",
    "\n",
    "from constants import *"
   ]
  },
  {
   "cell_type": "markdown",
   "metadata": {},
   "source": [
    "## Training our model"
   ]
  },
  {
   "cell_type": "code",
   "execution_count": null,
   "metadata": {},
   "outputs": [],
   "source": []
  },
  {
   "cell_type": "markdown",
   "metadata": {},
   "source": [
    "--- "
   ]
  }
 ],
 "metadata": {
  "kernelspec": {
   "display_name": "nlp-env",
   "language": "python",
   "name": "python3"
  },
  "language_info": {
   "codemirror_mode": {
    "name": "ipython",
    "version": 3
   },
   "file_extension": ".py",
   "mimetype": "text/x-python",
   "name": "python",
   "nbconvert_exporter": "python",
   "pygments_lexer": "ipython3",
   "version": "3.11.1"
  }
 },
 "nbformat": 4,
 "nbformat_minor": 2
}
