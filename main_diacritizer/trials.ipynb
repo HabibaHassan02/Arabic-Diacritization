{
 "cells": [
  {
   "cell_type": "code",
   "execution_count": 38,
   "metadata": {},
   "outputs": [],
   "source": [
    "import re\n",
    "import pyarabic.araby as araby"
   ]
  },
  {
   "cell_type": "code",
   "execution_count": 39,
   "metadata": {},
   "outputs": [
    {
     "name": "stdout",
     "output_type": "stream",
     "text": [
      "ُ\n",
      "َ\n",
      "ِ\n",
      "ٌ\n",
      "ً\n",
      "ٍ\n",
      "ّ\n",
      "ْ\n"
     ]
    }
   ],
   "source": [
    "DAMMA= araby.DAMMA\n",
    "FATHA = araby.FATHA\n",
    "KASRA = araby.KASRA\n",
    "TANWEEN_DAMMA = araby.DAMMATAN\n",
    "TANWEEN_FATHA = araby.FATHATAN\n",
    "TANWEEN_KASRA = araby.KASRATAN\n",
    "SHADDA = araby.SHADDA\n",
    "SUKOON = araby.SUKUN\n",
    "\n",
    "print(DAMMA)\n",
    "print(FATHA)\n",
    "print(KASRA)\n",
    "print(TANWEEN_DAMMA)\n",
    "print(TANWEEN_FATHA)\n",
    "print(TANWEEN_KASRA)\n",
    "print(SHADDA)\n",
    "print(SUKOON)\n"
   ]
  },
  {
   "cell_type": "code",
   "execution_count": 5,
   "metadata": {},
   "outputs": [
    {
     "name": "stdout",
     "output_type": "stream",
     "text": [
      "['َ', 'ُ', 'ِ']\n",
      "['ً', 'ٌ', 'ٍ']\n"
     ]
    }
   ],
   "source": [
    "SHORT_VOWELS = sorted((DAMMA, FATHA, KASRA))\n",
    "DOUBLE_CASE_ENDINGS = sorted((TANWEEN_DAMMA, TANWEEN_FATHA, TANWEEN_KASRA))\n",
    "print(SHORT_VOWELS)\n",
    "print(DOUBLE_CASE_ENDINGS)"
   ]
  },
  {
   "cell_type": "code",
   "execution_count": 17,
   "metadata": {},
   "outputs": [
    {
     "name": "stdout",
     "output_type": "stream",
     "text": [
      "ء\n",
      "آ\n",
      "أ\n",
      "ؤ\n",
      "إ\n",
      "ئ\n",
      "ا\n",
      "ب\n",
      "ة\n",
      "ت\n",
      "ث\n",
      "ج\n",
      "ح\n",
      "خ\n",
      "د\n",
      "ذ\n",
      "ر\n",
      "ز\n",
      "س\n",
      "ش\n",
      "ص\n",
      "ض\n",
      "ط\n",
      "ظ\n",
      "ع\n",
      "غ\n",
      "ف\n",
      "ق\n",
      "ك\n",
      "ل\n",
      "م\n",
      "ن\n",
      "ه\n",
      "و\n",
      "و\n",
      "ى\n",
      "ي\n"
     ]
    }
   ],
   "source": [
    "print(araby.HAMZA)\n",
    "print(araby.ALEF_MADDA)\n",
    "print(araby.ALEF_HAMZA_ABOVE)\n",
    "print(araby.WAW_HAMZA)\n",
    "print(araby.ALEF_HAMZA_BELOW)\n",
    "print(araby.YEH_HAMZA)\n",
    "print(araby.ALEF)\n",
    "print(araby.BEH)\n",
    "print(araby.TEH_MARBUTA)\n",
    "print(araby.TEH)\n",
    "print(araby.THEH)\n",
    "print(araby.JEEM)\n",
    "print(araby.HAH) \n",
    "print(araby.KHAH) \n",
    "print(araby.DAL) \n",
    "print(araby.THAL) \n",
    "print(araby.REH) \n",
    "print(araby.ZAIN) \n",
    "print(araby.SEEN) \n",
    "print(araby.SHEEN) \n",
    "print(araby.SAD) \n",
    "print(araby.DAD) \n",
    "print(araby.TAH) \n",
    "print(araby.ZAH) \n",
    "print(araby.AIN) \n",
    "print(araby.GHAIN) \n",
    "print(araby.FEH) \n",
    "print(araby.MOON[12])\n",
    "print(araby.KAF) \n",
    "print(araby.LAM) \n",
    "print(araby.MEEM) \n",
    "print(araby.NOON) \n",
    "print(araby.HEH) \n",
    "print(araby.WAW) \n",
    "print(araby.WAW) \n",
    "print(araby.YEHLIKE[2]) \n",
    "print(araby.YEH) \n"
   ]
  },
  {
   "cell_type": "code",
   "execution_count": 18,
   "metadata": {},
   "outputs": [],
   "source": [
    "char_mapping = {\n",
    "    '’ ’': 1,\n",
    "    '0-9': 2,\n",
    "    araby.HAMZA: 3,\n",
    "    araby.ALEF_MADDA: 4,\n",
    "    araby.ALEF_HAMZA_ABOVE: 5,\n",
    "    araby.WAW_HAMZA: 6,\n",
    "    araby.ALEF_HAMZA_BELOW: 7,\n",
    "    araby.YEH_HAMZA: 8,\n",
    "    araby.ALEF: 9,\n",
    "    araby.BEH: 10,\n",
    "    araby.TEH_MARBUTA: 11,\n",
    "    araby.TEH: 12,\n",
    "    araby.THEH: 13,\n",
    "    araby.JEEM: 14,\n",
    "    araby.HAH: 15,\n",
    "    araby.KHAH: 16,\n",
    "    araby.DAL: 17,\n",
    "    araby.THAL: 18,\n",
    "    araby.REH: 19,\n",
    "    araby.ZAIN: 20,\n",
    "    araby.SEEN: 21,\n",
    "    araby.SHEEN: 22,\n",
    "    araby.SAD: 23,\n",
    "    araby.DAD: 24,\n",
    "    araby.TAH: 25,\n",
    "    araby.ZAH: 26,\n",
    "    araby.AIN: 27,\n",
    "    araby.GHAIN: 28,\n",
    "    araby.FEH: 29,\n",
    "    araby.MOON[12]: 30,\n",
    "    araby.KAF: 31,\n",
    "    araby.LAM: 32,\n",
    "    araby.MEEM: 33,\n",
    "    araby.NOON: 34,\n",
    "    araby.HEH: 35,\n",
    "    araby.WAW: 36,\n",
    "    araby.YEHLIKE[2]: 37,\n",
    "    araby.YEH: 38,\n",
    "}"
   ]
  },
  {
   "cell_type": "code",
   "execution_count": 34,
   "metadata": {},
   "outputs": [
    {
     "name": "stdout",
     "output_type": "stream",
     "text": [
      "{'ت', 'ي', 'و', '’', ' ', 'آ', 'ب', 'غ', 'أ', '9', 'ق', 'إ', 'ئ', 'ث', 'ه', 'ر', 'د', 'خ', 'ش', 'ص', 'ط', 'ك', 'ؤ', '-', '0', 'ح', 'ء', 'ظ', 'ف', 'ج', 'ع', 'س', 'ن', 'ى', 'ذ', 'ل', 'م', 'ا', 'ض', 'ز', 'ة'}\n"
     ]
    }
   ],
   "source": [
    "print(set(''.join(char_mapping.keys())))"
   ]
  },
  {
   "cell_type": "code",
   "execution_count": 35,
   "metadata": {},
   "outputs": [],
   "source": [
    "\n",
    "# Add space mapping\n",
    "char_mapping[' '] = 0"
   ]
  },
  {
   "cell_type": "code",
   "execution_count": 39,
   "metadata": {},
   "outputs": [
    {
     "name": "stdout",
     "output_type": "stream",
     "text": [
      "0\n",
      "0\n"
     ]
    }
   ],
   "source": [
    "print(char_mapping[araby.WAW])\n",
    "print(char_mapping[' '])\n",
    "#print(char_mapping['dd'])  need to handle this"
   ]
  },
  {
   "cell_type": "code",
   "execution_count": 27,
   "metadata": {},
   "outputs": [
    {
     "name": "stdout",
     "output_type": "stream",
     "text": [
      "37\n"
     ]
    }
   ],
   "source": [
    "print(len(LIST_OF_ARABIC_LETTERS))"
   ]
  },
  {
   "cell_type": "code",
   "execution_count": 47,
   "metadata": {},
   "outputs": [],
   "source": [
    "decode_char_map = {value: key for key, value in char_mapping.items()}"
   ]
  },
  {
   "cell_type": "code",
   "execution_count": 49,
   "metadata": {},
   "outputs": [
    {
     "name": "stdout",
     "output_type": "stream",
     "text": [
      "ت 0\n",
      "و 0\n",
      "ي 0\n",
      "’ 0\n",
      "  0\n",
      "آ 0\n",
      "ب 0\n",
      "غ 0\n",
      "أ 0\n",
      "9 0\n",
      "ق 0\n",
      "إ 0\n",
      "ئ 0\n",
      "ث 0\n",
      "ه 0\n",
      "ر 0\n",
      "د 0\n",
      "خ 0\n",
      "ش 0\n",
      "ص 0\n",
      "ط 0\n",
      "ك 0\n",
      "ؤ 0\n",
      "- 0\n",
      "0 0\n",
      "ح 0\n",
      "ء 0\n",
      "ظ 0\n",
      "ف 0\n",
      "ج 0\n",
      "ع 0\n",
      "س 0\n",
      "ن 0\n",
      "ى 0\n",
      "ذ 0\n",
      "ل 0\n",
      "م 0\n",
      "ا 0\n",
      "ض 0\n",
      "ز 0\n",
      "ة 0\n"
     ]
    }
   ],
   "source": [
    "for key,value in char_mapping.items():\n",
    "    print(key,value)"
   ]
  },
  {
   "cell_type": "code",
   "execution_count": 48,
   "metadata": {},
   "outputs": [
    {
     "name": "stdout",
     "output_type": "stream",
     "text": [
      "ة\n"
     ]
    }
   ],
   "source": [
    "print(decode_char_map[0])"
   ]
  },
  {
   "cell_type": "code",
   "execution_count": 25,
   "metadata": {},
   "outputs": [],
   "source": [
    "LIST_OF_ARABIC_LETTERS=['ى', 'ع', 'ظ', 'ح', 'ر', 'س', 'ي', 'ش', 'ض', 'ق', ' ', 'ث', 'ل', 'ص', 'ط', 'ك', 'آ', 'م', 'ا', 'إ', 'ه', 'ز', 'ء', 'أ', 'ف', 'ؤ', 'غ', 'ج', 'ئ', 'د', 'ة', 'خ', 'و', 'ب', 'ذ', 'ت', 'ن']\n"
   ]
  },
  {
   "cell_type": "code",
   "execution_count": 2,
   "metadata": {},
   "outputs": [
    {
     "name": "stdout",
     "output_type": "stream",
     "text": [
      "ى\n"
     ]
    }
   ],
   "source": [
    "print(LIST_OF_ARABIC_LETTERS[0])"
   ]
  },
  {
   "cell_type": "code",
   "execution_count": 24,
   "metadata": {},
   "outputs": [],
   "source": [
    "ARABIC_LETTERS = frozenset([chr(x) for x in (list(range(0x0621, 0x63B)) + list(range(0x0641, 0x064B)))])"
   ]
  },
  {
   "cell_type": "code",
   "execution_count": 5,
   "metadata": {},
   "outputs": [
    {
     "name": "stdout",
     "output_type": "stream",
     "text": [
      "frozenset({'د', 'ذ', 'و', 'خ', 'س', 'ب', 'ق', 'ر', 'ؤ', 'ا', 'غ', 'ة', 'ل', 'ك', 'ى', 'أ', 'ث', 'ئ', 'ز', 'ح', 'ج', 'ص', 'م', 'ه', 'ط', 'ظ', 'ن', 'إ', 'ض', 'ي', 'آ', 'ت', 'ء', 'ف', 'ش', 'ع'})\n"
     ]
    }
   ],
   "source": [
    "print(ARABIC_LETTERS)"
   ]
  },
  {
   "cell_type": "code",
   "execution_count": 6,
   "metadata": {},
   "outputs": [],
   "source": [
    "CHARS = sorted(ARABIC_LETTERS.union({'0', ' '}))"
   ]
  },
  {
   "cell_type": "code",
   "execution_count": 7,
   "metadata": {},
   "outputs": [
    {
     "name": "stdout",
     "output_type": "stream",
     "text": [
      "[' ', '0', 'ء', 'آ', 'أ', 'ؤ', 'إ', 'ئ', 'ا', 'ب', 'ة', 'ت', 'ث', 'ج', 'ح', 'خ', 'د', 'ذ', 'ر', 'ز', 'س', 'ش', 'ص', 'ض', 'ط', 'ظ', 'ع', 'غ', 'ف', 'ق', 'ك', 'ل', 'م', 'ن', 'ه', 'و', 'ى', 'ي']\n"
     ]
    }
   ],
   "source": [
    "print(CHARS)"
   ]
  },
  {
   "cell_type": "code",
   "execution_count": 10,
   "metadata": {},
   "outputs": [
    {
     "name": "stdout",
     "output_type": "stream",
     "text": [
      "آ\n"
     ]
    }
   ],
   "source": [
    "print(CHARS[3])"
   ]
  },
  {
   "cell_type": "code",
   "execution_count": 27,
   "metadata": {},
   "outputs": [],
   "source": [
    "LIST_OF_ARABIC_LETTERS.append('0')"
   ]
  },
  {
   "cell_type": "code",
   "execution_count": 17,
   "metadata": {},
   "outputs": [],
   "source": [
    "SORTED_CHARS = sorted(LIST_OF_ARABIC_LETTERS)"
   ]
  },
  {
   "cell_type": "code",
   "execution_count": 18,
   "metadata": {},
   "outputs": [
    {
     "name": "stdout",
     "output_type": "stream",
     "text": [
      "[' ', '0', 'ء', 'آ', 'أ', 'ؤ', 'إ', 'ئ', 'ا', 'ب', 'ة', 'ت', 'ث', 'ج', 'ح', 'خ', 'د', 'ذ', 'ر', 'ز', 'س', 'ش', 'ص', 'ض', 'ط', 'ظ', 'ع', 'غ', 'ف', 'ق', 'ك', 'ل', 'م', 'ن', 'ه', 'و', 'ى', 'ي']\n"
     ]
    }
   ],
   "source": [
    "print(SORTED_CHARS)"
   ]
  },
  {
   "cell_type": "code",
   "execution_count": 19,
   "metadata": {},
   "outputs": [
    {
     "name": "stdout",
     "output_type": "stream",
     "text": [
      "True\n"
     ]
    }
   ],
   "source": [
    "print(SORTED_CHARS==CHARS)"
   ]
  },
  {
   "cell_type": "code",
   "execution_count": 28,
   "metadata": {},
   "outputs": [
    {
     "ename": "TypeError",
     "evalue": "'NoneType' object is not iterable",
     "output_type": "error",
     "traceback": [
      "\u001b[1;31m---------------------------------------------------------------------------\u001b[0m",
      "\u001b[1;31mTypeError\u001b[0m                                 Traceback (most recent call last)",
      "Cell \u001b[1;32mIn[28], line 3\u001b[0m\n\u001b[0;32m      1\u001b[0m LIST_OF_ARABIC_LETTERS\u001b[38;5;241m.\u001b[39mappend(\u001b[38;5;124m'\u001b[39m\u001b[38;5;124m0\u001b[39m\u001b[38;5;124m'\u001b[39m)\n\u001b[1;32m----> 3\u001b[0m SORTED_CHARS\u001b[38;5;241m=\u001b[39m \u001b[38;5;28;43msorted\u001b[39;49m\u001b[43m(\u001b[49m\u001b[43mLIST_OF_VALID_INPUT_LETTERS\u001b[49m\u001b[43m)\u001b[49m\n",
      "\u001b[1;31mTypeError\u001b[0m: 'NoneType' object is not iterable"
     ]
    }
   ],
   "source": [
    "LIST_OF_ARABIC_LETTERS.append('0')\n",
    "\n",
    "SORTED_CHARS= sorted(LIST_OF_VALID_INPUT_LETTERS)"
   ]
  },
  {
   "cell_type": "code",
   "execution_count": 31,
   "metadata": {},
   "outputs": [
    {
     "name": "stdout",
     "output_type": "stream",
     "text": [
      "True\n"
     ]
    }
   ],
   "source": [
    "print(SORTED_CHARS==CHARS)"
   ]
  },
  {
   "cell_type": "code",
   "execution_count": 30,
   "metadata": {},
   "outputs": [],
   "source": [
    "#All arabic letters:\n",
    "LIST_OF_ARABIC_LETTERS=['ى', 'ع', 'ظ', 'ح', 'ر', 'س', 'ي', 'ش', 'ض', 'ق', ' ', 'ث', 'ل', 'ص', 'ط', 'ك', 'آ', 'م', 'ا', 'إ', 'ه', 'ز', 'ء', 'أ', 'ف', 'ؤ', 'غ', 'ج', 'ئ', 'د', 'ة', 'خ', 'و', 'ب', 'ذ', 'ت', 'ن']\n",
    "\n",
    "LIST_OF_VALID_INPUT_LETTERS=LIST_OF_ARABIC_LETTERS+['0']\n",
    "\n",
    "SORTED_CHARS= sorted(LIST_OF_VALID_INPUT_LETTERS)"
   ]
  },
  {
   "cell_type": "code",
   "execution_count": 35,
   "metadata": {},
   "outputs": [
    {
     "name": "stdout",
     "output_type": "stream",
     "text": [
      "38\n"
     ]
    }
   ],
   "source": [
    "print(len(SORTED_CHARS))"
   ]
  },
  {
   "cell_type": "code",
   "execution_count": null,
   "metadata": {},
   "outputs": [],
   "source": [
    "# we have 38 + one for 0 = 39"
   ]
  },
  {
   "cell_type": "code",
   "execution_count": 34,
   "metadata": {},
   "outputs": [
    {
     "name": "stdout",
     "output_type": "stream",
     "text": [
      "[' ', '0', 'ء', 'آ', 'أ', 'ؤ', 'إ', 'ئ', 'ا', 'ب', 'ة', 'ت', 'ث', 'ج', 'ح', 'خ', 'د', 'ذ', 'ر', 'ز', 'س', 'ش', 'ص', 'ض', 'ط', 'ظ', 'ع', 'غ', 'ف', 'ق', 'ك', 'ل', 'م', 'ن', 'ه', 'و', 'ى', 'ي']\n",
      " \n",
      "0\n",
      "ء\n",
      "آ\n"
     ]
    }
   ],
   "source": [
    "print(SORTED_CHARS)\n",
    "print(SORTED_CHARS[0])\n",
    "print(SORTED_CHARS[1])\n",
    "print(SORTED_CHARS[2])  # hamza which supposed to be in 3  so index+1\n",
    "print(SORTED_CHARS[3])\n",
    "\n",
    "# 2 should be 0-9\n",
    "# 3 should be hamza\n",
    "# 38 should be yeh"
   ]
  },
  {
   "cell_type": "code",
   "execution_count": 40,
   "metadata": {},
   "outputs": [
    {
     "name": "stdout",
     "output_type": "stream",
     "text": [
      "ٍ\n"
     ]
    }
   ],
   "source": [
    "print(TANWEEN_KASRA)"
   ]
  },
  {
   "cell_type": "code",
   "execution_count": null,
   "metadata": {},
   "outputs": [],
   "source": []
  }
 ],
 "metadata": {
  "kernelspec": {
   "display_name": "nlp-env",
   "language": "python",
   "name": "python3"
  },
  "language_info": {
   "codemirror_mode": {
    "name": "ipython",
    "version": 3
   },
   "file_extension": ".py",
   "mimetype": "text/x-python",
   "name": "python",
   "nbconvert_exporter": "python",
   "pygments_lexer": "ipython3",
   "version": "3.11.1"
  }
 },
 "nbformat": 4,
 "nbformat_minor": 2
}
