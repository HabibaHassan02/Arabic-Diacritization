{
 "cells": [
  {
   "cell_type": "code",
   "execution_count": 2,
   "metadata": {},
   "outputs": [],
   "source": [
    "import re\n",
    "import numpy as np\n",
    "import pyarabic.araby as araby"
   ]
  },
  {
   "cell_type": "code",
   "execution_count": 3,
   "metadata": {},
   "outputs": [
    {
     "name": "stdout",
     "output_type": "stream",
     "text": [
      "<class 'str'>\n",
      "934240\n",
      "(\n"
     ]
    }
   ],
   "source": [
    "arabicDictionary=['ى', 'ع', 'ظ', 'ح', 'ر', 'س', 'ي', 'ش', 'ض', 'ق', ' ', 'ث', 'ل', 'ص', 'ط', 'ك', 'آ', 'م', 'ا', 'إ', 'ه', 'ز', 'ء', 'أ', 'ف', 'ؤ', 'غ', 'ج', 'ئ', 'د', 'ة', 'خ', 'و', 'ب', 'ذ', 'ت', 'ن']\n",
    "punctuations = [\"،\", \":\", \"؛\", \"-\", \"؟\"]\n",
    "#reading the training dataset\n",
    "f = open(r\"../data/val.txt\", \"r\",encoding=\"utf-8\").read()\n",
    "print(type(f))\n",
    "print(len(f))\n",
    "print(f[0])"
   ]
  },
  {
   "cell_type": "code",
   "execution_count": 4,
   "metadata": {},
   "outputs": [],
   "source": [
    "def cleanDataFromNonArabicLetters(data):\n",
    "    #regex to keep arabic letters only and remove any other character (eg. brackets, numbers ...etc)\n",
    "    characters_regex =r'[\\s\\.\\u0600-\\u06ff\\u0750-\\u077f\\ufb50-\\ufbc1\\ufbd3-\\ufd3f\\ufd50-\\ufd8f\\ufd50-\\ufd8f\\ufe70-\\ufefc\\uFDF0-\\uFDFD]+'\n",
    "    processedData = re.findall(characters_regex,data)\n",
    "    processedData = \" \".join(processedData)\n",
    "    processedData = re.sub(r\"\\s+\",\" \" ,processedData) #substitute many spaces with one space only\n",
    "    return processedData"
   ]
  },
  {
   "cell_type": "code",
   "execution_count": 5,
   "metadata": {},
   "outputs": [
    {
     "name": "stdout",
     "output_type": "stream",
     "text": [
      "907681\n",
      "ق\n"
     ]
    }
   ],
   "source": [
    "processedData=cleanDataFromNonArabicLetters(f)\n",
    "print(len(processedData))\n",
    "print(processedData[1])"
   ]
  },
  {
   "cell_type": "code",
   "execution_count": 6,
   "metadata": {},
   "outputs": [],
   "source": [
    "def removeDiacratics(processedData):\n",
    "    without_diacritics= araby.strip_diacritics(processedData)\n",
    "    return without_diacritics"
   ]
  },
  {
   "cell_type": "code",
   "execution_count": 7,
   "metadata": {},
   "outputs": [
    {
     "name": "stdout",
     "output_type": "stream",
     "text": [
      "540159\n",
      "ق\n"
     ]
    }
   ],
   "source": [
    "without_diacritics = removeDiacratics(processedData)\n",
    "print(len(without_diacritics))\n",
    "print(without_diacritics[1])"
   ]
  },
  {
   "cell_type": "code",
   "execution_count": 8,
   "metadata": {},
   "outputs": [],
   "source": [
    "#take the procrssed text and separate it into sentences\n",
    "def generateListsWithDiacraticsandWithout(with_diacratics, without_diacritics):\n",
    "    #---------------------Preprocessing of words with diacratics------------\n",
    "\n",
    "    #generate longStringSplited which is the list of procrssed text without brackets and numbers and dots \n",
    "    #the rest of the punctuation still there\n",
    "    longStringWithDecimalPoint=re.sub(r\"\\n\", ' ', with_diacratics) #string of data with diacratics removed endlines from it\n",
    "    for element in punctuations:\n",
    "        longStringWithDecimalPoint=re.sub(element, '', longStringWithDecimalPoint) #remove punctuations from the string\n",
    "\n",
    "    longStringSplited=longStringWithDecimalPoint.split('.') #split the string by dots (segment sentences) and make list of them\n",
    "    longString=' '.join(longStringSplited)  #long string without decimal points\n",
    "\n",
    "    #-------------------------------------\n",
    "\n",
    "    #---------------------Preprocessing of words without diacratics------------\n",
    "    without_diacratics_longStringWithDecimals=re.sub(r\"\\n\", ' ', without_diacritics) #string of data without diacratics removed endlines from it\n",
    "    for element in punctuations:\n",
    "        without_diacratics_longStringWithDecimals=re.sub(element, '', without_diacratics_longStringWithDecimals) #remove punctuations from the string\n",
    "\n",
    "    longStringSplited_withoutDiacratics=without_diacratics_longStringWithDecimals.split('.') #split the string by dots (segment sentences) and make list of them\n",
    "    longString_withoutDiacratics=' '.join(longStringSplited_withoutDiacratics)  #long string without decimal points\n",
    "\n",
    "    #-------------------------------------------------------------------------\n",
    "\n",
    "    list_of_sentences=[]\n",
    "    for line in longStringSplited_withoutDiacratics: #list of lists of sentences splitted in words without diacratics (used in embeddings)\n",
    "        list_of_sentences.append(line.split(\" \"))\n",
    "    \n",
    "\n",
    "    # now the variable called longString has a single string with all the processed words in it \n",
    "    listOfwordsWith_Diacritics=list()\n",
    "    listOfwordsWith_NoDiacritics=list()\n",
    "\n",
    "    listOfwordsWith_Diacritics=re.sub(r\"\\s+\", ' ', longString)\n",
    "    listOfwordsWith_Diacritics=listOfwordsWith_Diacritics.split(\" \")\n",
    "\n",
    "    listOfwordsWith_NoDiacritics=re.sub(r\"\\s+\", ' ', longString_withoutDiacratics)\n",
    "    listOfwordsWith_NoDiacritics=listOfwordsWith_NoDiacritics.split(\" \")\n",
    "\n",
    "    return list_of_sentences,listOfwordsWith_Diacritics,listOfwordsWith_NoDiacritics\n"
   ]
  },
  {
   "cell_type": "code",
   "execution_count": 9,
   "metadata": {},
   "outputs": [],
   "source": [
    "def generateListsWithDiacraticsandWithout_sentence_only(with_diacratics, without_diacritics):\n",
    "    #---------------------Preprocessing of words with diacratics------------\n",
    "\n",
    "    #generate longStringSplited which is the list of procrssed text without brackets and numbers and dots \n",
    "    #the rest of the punctuation still there\n",
    "    longStringWithDecimalPoint = re.sub(r\"\\n\", ' ', with_diacratics) # string of data with diacratics, removed endlines from it\n",
    "    for element in punctuations:\n",
    "        longStringWithDecimalPoint = re.sub(element, '', longStringWithDecimalPoint) # remove punctuations from the string\n",
    "\n",
    "    longStringSplited = longStringWithDecimalPoint.split('.') # split the string by dots (segment sentences) and make a list of them\n",
    "    longString = ' '.join(longStringSplited)  # long string without decimal points\n",
    "\n",
    "    #-------------------------------------\n",
    "\n",
    "    #---------------------Preprocessing of words without diacratics------------\n",
    "    without_diacratics_longStringWithDecimals = re.sub(r\"\\n\", ' ', without_diacritics) # string of data without diacratics, removed endlines from it\n",
    "    for element in punctuations:\n",
    "        without_diacratics_longStringWithDecimals = re.sub(element, '', without_diacratics_longStringWithDecimals) # remove punctuations from the string\n",
    "\n",
    "    longStringSplited_withoutDiacratics = without_diacratics_longStringWithDecimals.split('.') # split the string by dots (segment sentences) and make a list of them\n",
    "    longString_withoutDiacratics = ' '.join(longStringSplited_withoutDiacratics)  # long string without decimal points\n",
    "\n",
    "    #-------------------------------------------------------------------------\n",
    "\n",
    "    list_of_sentences_with_diacritics = []\n",
    "    list_of_sentences_without_diacritics = []\n",
    "    for line in longStringSplited: # list of lists of sentences split into words with diacritics (used in embeddings)\n",
    "        list_of_sentences_with_diacritics.append(line.split(\" \"))\n",
    "\n",
    "    for line in longStringSplited_withoutDiacratics: # list of lists of sentences split into words without diacritics (used in embeddings)\n",
    "        list_of_sentences_without_diacritics.append(line.split(\" \"))\n",
    "    \n",
    "\n",
    "    return list_of_sentences_with_diacritics, list_of_sentences_without_diacritics\n"
   ]
  },
  {
   "cell_type": "code",
   "execution_count": 10,
   "metadata": {},
   "outputs": [],
   "source": [
    "list_of_sentences_with_diacritics, list_of_sentences_without_diacritics= generateListsWithDiacraticsandWithout_sentence_only(processedData, without_diacritics)"
   ]
  },
  {
   "cell_type": "code",
   "execution_count": 11,
   "metadata": {},
   "outputs": [
    {
     "name": "stdout",
     "output_type": "stream",
     "text": [
      "2034\n",
      "['', 'قَوْلُهُ', 'وَلَا', 'تُكْرَهُ', 'ضِيَافَتُهُ', '']\n",
      "2034\n",
      "['', 'قوله', 'ولا', 'تكره', 'ضيافته', '']\n"
     ]
    }
   ],
   "source": [
    "print(len(list_of_sentences_with_diacritics))\n",
    "print(list_of_sentences_with_diacritics[0])\n",
    "print(len(list_of_sentences_without_diacritics))\n",
    "print(list_of_sentences_without_diacritics[0])"
   ]
  },
  {
   "cell_type": "code",
   "execution_count": 12,
   "metadata": {},
   "outputs": [],
   "source": [
    "list_of_sentences,listOfwordsWith_Diacritics,listOfwordsWith_NoDiacritics= generateListsWithDiacraticsandWithout(processedData, without_diacritics)"
   ]
  },
  {
   "cell_type": "code",
   "execution_count": 14,
   "metadata": {},
   "outputs": [
    {
     "name": "stdout",
     "output_type": "stream",
     "text": [
      "2034\n",
      "['', 'قوله', 'ولا', 'تكره', 'ضيافته', '']\n",
      "106065\n",
      "106065\n",
      "['', 'قَوْلُهُ', 'وَلَا', 'تُكْرَهُ', 'ضِيَافَتُهُ', 'الْفَرْقُ', 'الثَّالِثُ', 'وَالثَّلَاثُونَ', 'بَيْنَ', 'قَاعِدَةِ', 'تَقَدُّمِ', 'الْحُكْمِ', 'عَلَى', 'سَبَبِهِ', 'دُونَ', 'شَرْطِهِ', 'أَوْ', 'شَرْطِهِ', 'دُونَ', 'سَبَبِهِ', 'وَبَيْنَ', 'قَاعِدَةِ', 'تَقَدُّمِهِ', 'عَلَى', 'السَّبَبِ', 'وَالشَّرْطِ', 'جَمِيعًا', 'وَتَحْرِيرُهُ', 'أَنَّ', 'الْحُكْمَ', 'إنْ', 'كَانَ', 'لَهُ', 'سَبَبٌ', 'بِغَيْرِ', 'شَرْطٍ', 'فَتَقَدَّمَ', 'عَلَيْهِ', 'لَا', 'يُعْتَبَرُ', 'أَوْ', 'كَانَ', 'لَهُ', 'سَبَبَانِ', 'أَوْ', 'أَسْبَابٌ', 'فَتَقَدَّمَ', 'عَلَى', 'جَمِيعِهَا', 'لَمْ', 'يُعْتَبَرْ', 'أَوْ', 'عَلَى', 'بَعْضِهَا', 'دُونَ', 'بَعْضٍ', 'اُعْتُبِرَ', 'بِنَاءً', 'عَلَى', 'سَبَبِ', 'الْخَاصِّ', 'وَلَا', 'يَضُرُّ', 'فِقْدَانُ', 'بَقِيَّةِ', 'الْأَسْبَابِ', 'فَإِنَّ', 'شَأْنَ', 'السَّبَبِ', 'أَنْ', 'يَسْتَقِلَّ', 'بِثُبُوتِ', 'مُسَبِّبِهِ', 'دُونَ', 'غَيْرِهِ', 'مِنْ', 'الْأَسْبَابِ', 'مِثَالُ', 'الْأَوَّلِ', 'الزَّوَالُ', 'سَبَبُ', 'وُجُوبِ', 'الظُّهْرِ', 'فَإِذَا', 'صَلَّيْت', 'قَبْلَ', 'الزَّوَالِ', 'لَمْ', 'تُعْتَبَرْ', 'ظُهْرًا', 'وَمِثَالُ', 'الثَّانِي', 'الْجَلْدُ', 'لَهُ', 'ثَلَاثَةُ', 'أَسْبَابٍ', 'الزِّنَى', 'وَالْقَذْفُ', 'وَالشُّرْبُ', 'فَمَنْ']\n",
      "['', 'قوله', 'ولا', 'تكره', 'ضيافته', 'الفرق', 'الثالث', 'والثلاثون', 'بين', 'قاعدة', 'تقدم', 'الحكم', 'على', 'سببه', 'دون', 'شرطه', 'أو', 'شرطه', 'دون', 'سببه', 'وبين', 'قاعدة', 'تقدمه', 'على', 'السبب', 'والشرط', 'جميعا', 'وتحريره', 'أن', 'الحكم', 'إن', 'كان', 'له', 'سبب', 'بغير', 'شرط', 'فتقدم', 'عليه', 'لا', 'يعتبر', 'أو', 'كان', 'له', 'سببان', 'أو', 'أسباب', 'فتقدم', 'على', 'جميعها', 'لم', 'يعتبر', 'أو', 'على', 'بعضها', 'دون', 'بعض', 'اعتبر', 'بناء', 'على', 'سبب', 'الخاص', 'ولا', 'يضر', 'فقدان', 'بقية', 'الأسباب', 'فإن', 'شأن', 'السبب', 'أن', 'يستقل', 'بثبوت', 'مسببه', 'دون', 'غيره', 'من', 'الأسباب', 'مثال', 'الأول', 'الزوال', 'سبب', 'وجوب', 'الظهر', 'فإذا', 'صليت', 'قبل', 'الزوال', 'لم', 'تعتبر', 'ظهرا', 'ومثال', 'الثاني', 'الجلد', 'له', 'ثلاثة', 'أسباب', 'الزنى', 'والقذف', 'والشرب', 'فمن']\n"
     ]
    }
   ],
   "source": [
    "print(len(list_of_sentences))\n",
    "print(list_of_sentences[0])\n",
    "print(len(listOfwordsWith_NoDiacritics))\n",
    "print(len(listOfwordsWith_Diacritics))\n",
    "print(listOfwordsWith_Diacritics[0:100])\n",
    "print(listOfwordsWith_NoDiacritics[0:100])"
   ]
  },
  {
   "cell_type": "code",
   "execution_count": 15,
   "metadata": {},
   "outputs": [],
   "source": [
    "def generateDiacraticsList(listOfwordsWith_Diacritics):\n",
    "    #now that we have two separated lists we need to get the diacritics list \n",
    "\n",
    "\n",
    "    listofDiacritrcs_ToWord=list()\n",
    "    temp=list()\n",
    "    counter=0\n",
    "    for word in listOfwordsWith_Diacritics:\n",
    "        while counter<len(word):\n",
    "            if word[counter] in arabicDictionary: #checking if the character is a letter\n",
    "                if (counter+1)<len(word):\n",
    "                    #checking if the next character is also a letter, then that means that the diacritics of the current letter is none so add empty string to the list\n",
    "                    if word[counter +1] in arabicDictionary: \n",
    "                        temp.append(\"\")\n",
    "                        counter+=1\n",
    "                        continue\n",
    "                counter+=1 #if it is the end of the word (no more letters) or the next character is a diacritics -> continue looping\n",
    "                continue\n",
    "            else:\n",
    "                if (counter+1)<len(word):\n",
    "                    if word[(counter+1)] not in arabicDictionary: #if the current and the next characters are diacritics, add them together in the list\n",
    "                        temp.append(word[counter]+word[counter+1])\n",
    "                        counter+=2\n",
    "                        continue\n",
    "                temp.append(word[counter]) #if the current character only is the diacritics add it to the list\n",
    "                counter+=1    \n",
    "        listofDiacritrcs_ToWord.append(temp.copy())     \n",
    "        temp.clear() \n",
    "        counter=0\n",
    "    return listofDiacritrcs_ToWord"
   ]
  },
  {
   "cell_type": "code",
   "execution_count": 16,
   "metadata": {},
   "outputs": [],
   "source": [
    "listofDiacritrcs_ToWord= generateDiacraticsList(listOfwordsWith_Diacritics)"
   ]
  },
  {
   "cell_type": "code",
   "execution_count": 17,
   "metadata": {},
   "outputs": [
    {
     "name": "stdout",
     "output_type": "stream",
     "text": [
      "106065\n",
      "تُكْرَهُ\n",
      "تكره\n",
      "['ُ', 'ْ', 'َ', 'ُ']\n",
      "ُ ْ َ ُ\n",
      "[[], ['َ', 'ْ', 'ُ', 'ُ'], ['َ', 'َ'], ['ُ', 'ْ', 'َ', 'ُ'], ['ِ', 'َ', '', 'َ', 'ُ', 'ُ'], ['', 'ْ', 'َ', 'ْ', 'ُ'], ['', '', 'َّ', '', 'ِ', 'ُ'], ['َ', '', '', 'َّ', 'َ', '', 'ُ', '', 'َ'], ['َ', 'ْ', 'َ'], ['َ', '', 'ِ', 'َ', 'ِ'], ['َ', 'َ', 'ُّ', 'ِ'], ['', 'ْ', 'ُ', 'ْ', 'ِ'], ['َ', 'َ'], ['َ', 'َ', 'ِ', 'ِ'], ['ُ', '', 'َ'], ['َ', 'ْ', 'ِ', 'ِ'], ['َ', 'ْ'], ['َ', 'ْ', 'ِ', 'ِ'], ['ُ', '', 'َ'], ['َ', 'َ', 'ِ', 'ِ'], ['َ', 'َ', 'ْ', 'َ'], ['َ', '', 'ِ', 'َ', 'ِ'], ['َ', 'َ', 'ُّ', 'ِ', 'ِ'], ['َ', 'َ'], ['', '', 'َّ', 'َ', 'ِ'], ['َ', '', '', 'َّ', 'ْ', 'ِ'], ['َ', 'ِ', '', 'ً'], ['َ', 'َ', 'ْ', 'ِ', '', 'ُ', 'ُ'], ['َ', 'َّ'], ['', 'ْ', 'ُ', 'ْ', 'َ'], ['', 'ْ'], ['َ', '', 'َ'], ['َ', 'ُ'], ['َ', 'َ', 'ٌ'], ['ِ', 'َ', 'ْ', 'ِ'], ['َ', 'ْ', 'ٍ'], ['َ', 'َ', 'َ', 'َّ', 'َ'], ['َ', 'َ', 'ْ', 'ِ'], ['َ'], ['ُ', 'ْ', 'َ', 'َ', 'ُ'], ['َ', 'ْ'], ['َ', '', 'َ'], ['َ', 'ُ'], ['َ', 'َ', 'َ', '', 'ِ'], ['َ', 'ْ'], ['َ', 'ْ', 'َ', '', 'ٌ'], ['َ', 'َ', 'َ', 'َّ', 'َ'], ['َ', 'َ'], ['َ', 'ِ', '', 'ِ', 'َ'], ['َ', 'ْ'], ['ُ', 'ْ', 'َ', 'َ', 'ْ'], ['َ', 'ْ'], ['َ', 'َ'], ['َ', 'ْ', 'ِ', 'َ'], ['ُ', '', 'َ'], ['َ', 'ْ', 'ٍ'], ['ُ', 'ْ', 'ُ', 'ِ', 'َ'], ['ِ', 'َ', '', 'ً'], ['َ', 'َ'], ['َ', 'َ', 'ِ'], ['', 'ْ', 'َ', '', 'ِّ'], ['َ', 'َ'], ['َ', 'ُ', 'ُّ'], ['ِ', 'ْ', 'َ', '', 'ُ'], ['َ', 'ِ', 'َّ', 'ِ'], ['', 'ْ', 'َ', 'ْ', 'َ', '', 'ِ'], ['َ', 'ِ', 'َّ'], ['َ', 'ْ', 'َ'], ['', '', 'َّ', 'َ', 'ِ'], ['َ', 'ْ'], ['َ', 'ْ', 'َ', 'ِ', 'َّ'], ['ِ', 'ُ', 'ُ', '', 'ِ'], ['ُ', 'َ', 'ِّ', 'ِ', 'ِ'], ['ُ', '', 'َ'], ['َ', 'ْ', 'ِ', 'ِ'], ['ِ', 'ْ'], ['', 'ْ', 'َ', 'ْ', 'َ', '', 'ِ'], ['ِ', 'َ', '', 'ُ'], ['', 'ْ', 'َ', 'َّ', 'ِ'], ['', '', 'َّ', 'َ', '', 'ُ'], ['َ', 'َ', 'ُ'], ['ُ', 'ُ', '', 'ِ'], ['', '', 'ُّ', 'ْ', 'ِ'], ['َ', 'ِ', 'َ'], ['َ', 'َّ', 'ْ'], ['َ', 'ْ', 'َ'], ['', '', 'َّ', 'َ', '', 'ِ'], ['َ', 'ْ'], ['ُ', 'ْ', 'َ', 'َ', 'ْ'], ['ُ', 'ْ', 'ً'], ['َ', 'ِ', 'َ', '', 'ُ'], ['', '', 'َّ', '', 'ِ'], ['', 'ْ', 'َ', 'ْ', 'ُ'], ['َ', 'ُ'], ['َ', 'َ', '', 'َ', 'ُ'], ['َ', 'ْ', 'َ', '', 'ٍ'], ['', '', 'ِّ', 'َ'], ['َ', '', 'ْ', 'َ', 'ْ', 'ُ'], ['َ', '', '', 'ُّ', 'ْ', 'ُ'], ['َ', 'َ', 'ْ']]\n"
     ]
    }
   ],
   "source": [
    "print(len(listofDiacritrcs_ToWord))\n",
    "print(listOfwordsWith_Diacritics[3])\n",
    "print(listOfwordsWith_NoDiacritics[3])\n",
    "print(listofDiacritrcs_ToWord[3])\n",
    "print(\" \".join(listofDiacritrcs_ToWord[3]))\n",
    "print(listofDiacritrcs_ToWord[0:100])"
   ]
  },
  {
   "cell_type": "markdown",
   "metadata": {},
   "source": [
    "---"
   ]
  },
  {
   "cell_type": "code",
   "execution_count": 20,
   "metadata": {},
   "outputs": [],
   "source": [
    "from transformers import  TFBertModel, BertTokenizer, BertModel\n",
    "from transformers import AutoTokenizer, AutoModel, AutoConfig\n",
    "# import torch"
   ]
  },
  {
   "cell_type": "code",
   "execution_count": 21,
   "metadata": {},
   "outputs": [
    {
     "name": "stdout",
     "output_type": "stream",
     "text": [
      " قَوْلُهُ وَلَا تُكْرَهُ ضِيَافَتُهُ \n",
      " الْفَرْقُ الثَّالِثُ وَالثَّلَاثُونَ بَيْنَ قَاعِدَةِ تَقَدُّمِ الْحُكْمِ عَلَى سَبَبِهِ دُونَ شَرْطِهِ أَوْ شَرْطِهِ دُونَ سَبَبِهِ وَبَيْنَ قَاعِدَةِ تَقَدُّمِهِ عَلَى السَّبَبِ وَالشَّرْطِ جَمِيعًا وَتَحْرِيرُهُ أَنَّ الْحُكْمَ إنْ كَانَ لَهُ سَبَبٌ بِغَيْرِ شَرْطٍ فَتَقَدَّمَ عَلَيْهِ لَا يُعْتَبَرُ أَوْ كَانَ لَهُ سَبَبَانِ أَوْ أَسْبَابٌ فَتَقَدَّمَ عَلَى جَمِيعِهَا لَمْ يُعْتَبَرْ أَوْ عَلَى بَعْضِهَا دُونَ بَعْضٍ اُعْتُبِرَ بِنَاءً عَلَى سَبَبِ الْخَاصِّ وَلَا يَضُرُّ فِقْدَانُ بَقِيَّةِ الْأَسْبَابِ فَإِنَّ شَأْنَ السَّبَبِ أَنْ يَسْتَقِلَّ بِثُبُوتِ مُسَبِّبِهِ دُونَ غَيْرِهِ مِنْ الْأَسْبَابِ مِثَالُ الْأَوَّلِ الزَّوَالُ سَبَبُ وُجُوبِ الظُّهْرِ فَإِذَا صَلَّيْت قَبْلَ الزَّوَالِ لَمْ تُعْتَبَرْ ظُهْرًا وَمِثَالُ الثَّانِي الْجَلْدُ لَهُ ثَلَاثَةُ أَسْبَابٍ الزِّنَى وَالْقَذْفُ وَالشُّرْبُ فَمَنْ جُلِدَ قَبْلَ مُلَابَسَةِ شَيْءٍ مِنْ هَذِهِ الثَّلَاثَةِ لَمْ يُعْتَبَرْ ذَلِكَ حَدًّا وَلَا زَجْرًا فَهَذَانِ قِسْمَانِ مَا أَعْلَمُ فِيهِمَا خِلَافًا \n",
      "2034\n"
     ]
    }
   ],
   "source": [
    "list_of_string_sentences_with_dicratics=[]\n",
    "for i,sentence in enumerate(list_of_sentences_with_diacritics):\n",
    "    list_of_words = list_of_sentences_with_diacritics[i]\n",
    "    sentence_as_string = \" \".join(list_of_words)\n",
    "    list_of_string_sentences_with_dicratics.append(sentence_as_string)\n",
    "print(list_of_string_sentences_with_dicratics[0])\n",
    "print(list_of_string_sentences_with_dicratics[1])\n",
    "print(len(list_of_string_sentences_with_dicratics))"
   ]
  },
  {
   "cell_type": "code",
   "execution_count": 22,
   "metadata": {},
   "outputs": [
    {
     "name": "stdout",
     "output_type": "stream",
     "text": [
      " قوله ولا تكره ضيافته \n",
      " الفرق الثالث والثلاثون بين قاعدة تقدم الحكم على سببه دون شرطه أو شرطه دون سببه وبين قاعدة تقدمه على السبب والشرط جميعا وتحريره أن الحكم إن كان له سبب بغير شرط فتقدم عليه لا يعتبر أو كان له سببان أو أسباب فتقدم على جميعها لم يعتبر أو على بعضها دون بعض اعتبر بناء على سبب الخاص ولا يضر فقدان بقية الأسباب فإن شأن السبب أن يستقل بثبوت مسببه دون غيره من الأسباب مثال الأول الزوال سبب وجوب الظهر فإذا صليت قبل الزوال لم تعتبر ظهرا ومثال الثاني الجلد له ثلاثة أسباب الزنى والقذف والشرب فمن جلد قبل ملابسة شيء من هذه الثلاثة لم يعتبر ذلك حدا ولا زجرا فهذان قسمان ما أعلم فيهما خلافا \n",
      "2034\n"
     ]
    }
   ],
   "source": [
    "list_of_string_sentences_without_dicratics=[]\n",
    "for i,sentence in enumerate(list_of_sentences_without_diacritics):\n",
    "    list_of_words = list_of_sentences_without_diacritics[i]\n",
    "    sentence_as_string = \" \".join(list_of_words)\n",
    "    list_of_string_sentences_without_dicratics.append(sentence_as_string)\n",
    "print(list_of_string_sentences_without_dicratics[0])\n",
    "print(list_of_string_sentences_without_dicratics[1])\n",
    "print(len(list_of_string_sentences_without_dicratics))"
   ]
  },
  {
   "cell_type": "code",
   "execution_count": 23,
   "metadata": {},
   "outputs": [
    {
     "name": "stdout",
     "output_type": "stream",
     "text": [
      " قوله ولا تكره ضيافته \n",
      " الفرق الثالث والثلاثون بين قاعدة تقدم الحكم على سببه دون شرطه أو شرطه دون سببه وبين قاعدة تقدمه على السبب والشرط جميعا وتحريره أن الحكم إن كان له سبب بغير شرط فتقدم عليه لا يعتبر أو كان له سببان أو أسباب فتقدم على جميعها لم يعتبر أو على بعضها دون بعض اعتبر بناء على سبب الخاص ولا يضر فقدان بقية الأسباب فإن شأن السبب أن يستقل بثبوت مسببه دون غيره من الأسباب مثال الأول الزوال سبب وجوب الظهر فإذا صليت قبل الزوال لم تعتبر ظهرا ومثال الثاني الجلد له ثلاثة أسباب الزنى والقذف والشرب فمن جلد قبل ملابسة شيء من هذه الثلاثة لم يعتبر ذلك حدا ولا زجرا فهذان قسمان ما أعلم فيهما خلافا \n",
      "2034\n"
     ]
    }
   ],
   "source": [
    "list_of_string_sentences=[]\n",
    "for i,sentence in enumerate(list_of_sentences):\n",
    "    list_of_words = list_of_sentences[i]\n",
    "    sentence_as_string = \" \".join(list_of_words)\n",
    "    list_of_string_sentences.append(sentence_as_string)\n",
    "print(list_of_string_sentences[0])\n",
    "print(list_of_string_sentences[1])\n",
    "print(len(list_of_string_sentences))"
   ]
  },
  {
   "cell_type": "code",
   "execution_count": 24,
   "metadata": {},
   "outputs": [
    {
     "name": "stdout",
     "output_type": "stream",
     "text": [
      "Files created successfully.\n"
     ]
    }
   ],
   "source": [
    "\n",
    "# Specify the file paths\n",
    "file_path_with_diacritics = \"../data/val_with_diacritics.txt\"\n",
    "file_path_without_diacritics = \"../data/val_without_diacritics.txt\"\n",
    "\n",
    "# Write sentences with diacritics to the file\n",
    "with open(file_path_with_diacritics, \"w\", encoding=\"utf-8\") as file_with_diacritics:\n",
    "    for sentence in list_of_string_sentences_with_dicratics:\n",
    "        file_with_diacritics.write(sentence + \"\\n\")\n",
    "\n",
    "# Write sentences without diacritics to the file\n",
    "with open(file_path_without_diacritics, \"w\", encoding=\"utf-8\") as file_without_diacritics:\n",
    "    for sentence in list_of_string_sentences_without_dicratics:\n",
    "        file_without_diacritics.write(sentence + \"\\n\")\n",
    "\n",
    "print(\"Files created successfully.\")\n"
   ]
  }
 ],
 "metadata": {
  "kernelspec": {
   "display_name": "nlp-env",
   "language": "python",
   "name": "python3"
  },
  "language_info": {
   "codemirror_mode": {
    "name": "ipython",
    "version": 3
   },
   "file_extension": ".py",
   "mimetype": "text/x-python",
   "name": "python",
   "nbconvert_exporter": "python",
   "pygments_lexer": "ipython3",
   "version": "3.10.13"
  }
 },
 "nbformat": 4,
 "nbformat_minor": 2
}
