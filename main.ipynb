{
 "cells": [
  {
   "cell_type": "markdown",
   "metadata": {},
   "source": [
    "1- Preprocessing :\n",
    "define characters accepted and tashkeel accepted and remove from the training set any tashkeel and unwanted characters (eg. brackets, numbers... etc)"
   ]
  },
  {
   "cell_type": "code",
   "execution_count": 2,
   "metadata": {},
   "outputs": [],
   "source": [
    "import re\n",
    "import pyarabic.araby as araby"
   ]
  },
  {
   "cell_type": "code",
   "execution_count": 3,
   "metadata": {},
   "outputs": [],
   "source": [
    "tashkeel = [\"ْ\", \"ّ\", \"ٌ\", \"ٍ\", \"ِ\", \"ً\", \"َ\", \"ُ\"]\n",
    "arabicCharacters = \"ىعظحرسيشضقثلصطكآماإهزءأفؤغجئدةخوبذتن\"\n",
    "punctuations = [\".\", \"،\", \":\", \"؛\", \"-\", \"؟\"]\n",
    "validCharacters= tashkeel + list(arabicCharacters) + punctuations\n",
    "charcters_without_tashkeel = list(arabicCharacters) + punctuations"
   ]
  },
  {
   "cell_type": "code",
   "execution_count": 4,
   "metadata": {},
   "outputs": [
    {
     "name": "stdout",
     "output_type": "stream",
     "text": [
      "<class 'str'>\n"
     ]
    }
   ],
   "source": [
    "#reading the training dataset\n",
    "f = open(r\"train.txt\", \"r\",encoding=\"utf-8\").read()\n",
    "print(type(f))"
   ]
  },
  {
   "cell_type": "code",
   "execution_count": 5,
   "metadata": {},
   "outputs": [
    {
     "name": "stdout",
     "output_type": "stream",
     "text": [
      "18515271\n",
      "17997403\n"
     ]
    }
   ],
   "source": [
    "print(len(f))\n",
    "#regex to keep arabic letters only and remove any other character (eg. brackets, numbers ...etc)\n",
    "characters_regex =r'[\\s\\.\\u0600-\\u06ff\\u0750-\\u077f\\ufb50-\\ufbc1\\ufbd3-\\ufd3f\\ufd50-\\ufd8f\\ufd50-\\ufd8f\\ufe70-\\ufefc\\uFDF0-\\uFDFD]+'\n",
    "processedData = re.findall(characters_regex,f)\n",
    "processedData = \" \".join(processedData)\n",
    "processedData = re.sub(r\"\\s+\",\" \" ,processedData) #substitute many spaces with one space only\n",
    "print(len(processedData))"
   ]
  },
  {
   "cell_type": "code",
   "execution_count": 6,
   "metadata": {},
   "outputs": [],
   "source": [
    "w = open('processed.txt', 'w', encoding='utf-8')\n",
    "\n",
    "w.write(processedData)\n",
    "w.close()"
   ]
  },
  {
   "cell_type": "code",
   "execution_count": 7,
   "metadata": {},
   "outputs": [
    {
     "name": "stdout",
     "output_type": "stream",
     "text": [
      "10711561\n"
     ]
    }
   ],
   "source": [
    "#remove diacritics\n",
    "without_diacritics= araby.strip_diacritics(processedData)\n",
    "print(len(without_diacritics))\n",
    "w2 = open('withoutDiacritics.txt', 'w', encoding='utf-8')\n",
    "\n",
    "w2.write(without_diacritics)\n",
    "w2.close()"
   ]
  },
  {
   "cell_type": "code",
   "execution_count": 8,
   "metadata": {},
   "outputs": [
    {
     "name": "stdout",
     "output_type": "stream",
     "text": [
      "40836\n"
     ]
    }
   ],
   "source": [
    "#take the procrssed text and separate it into sentences\n",
    "fileRead=open('processed.txt', encoding='utf-8')\n",
    "lines=fileRead.readlines()\n",
    "longString=' '.join(lines)\n",
    "longStringSplited=re.sub(r\"\\n\", ' ', longString)\n",
    "#the dot itself got removed in the process\n",
    "longStringSplited=longStringSplited.split('.')\n",
    "print(len(longStringSplited))\n",
    "w2 = open('withoutDiacritics.txt', 'w', encoding='utf-8')\n",
    "\n",
    "w2.write(without_diacritics)\n",
    "\n",
    "w3 = open('processed_sentences_separated.txt', 'w', encoding='utf-8')\n",
    "for line in longStringSplited:\n",
    " w3.write(line)\n",
    "\n",
    " #now longStringSplited is the list of procrssed text without practices and numbers and dots \n",
    " #the rest of the punctuation still there  \n",
    "\n",
    "\n",
    " \n"
   ]
  },
  {
   "cell_type": "code",
   "execution_count": 33,
   "metadata": {},
   "outputs": [],
   "source": [
    "# now we want to create a list of words and a crossbonding list of punctuation for each word \n",
    "\n",
    "#first remove all puncturation \n",
    "\n",
    "fileRead=open('processed_sentences_separated.txt', encoding='utf-8')\n",
    "lines=fileRead.readlines()\n",
    "longString=' '.join(lines)\n",
    "longString=re.sub(r\"\\n\", ' ', longString)\n",
    "punctuations = [\"،\", \":\", \"؛\", \"-\", \"؟\"]\n",
    "for element in punctuations:\n",
    "     longString=re.sub(element, '', longString)\n",
    "\n"
   ]
  },
  {
   "cell_type": "code",
   "execution_count": 44,
   "metadata": {},
   "outputs": [
    {
     "name": "stdout",
     "output_type": "stream",
     "text": [
      "['قوله', 'أو', 'قطع', 'الأول', 'يده', 'إلخ', 'قال', 'الزركشي', 'ابن', 'عرفة', 'قوله', 'بلفظ', 'يقتضيه', 'كإنكار', 'غير', 'حديث', 'بالإسلام', 'وجوب', 'ما', 'علم', 'وجوبه', 'من', 'الدين', 'ضرورة', 'كإلقاء', 'مصحف', 'بقذر', 'وشد', 'زنار', 'ابن', 'عرفة', 'قول', 'ابن', 'شاس', 'أو', 'بفعل', 'يتضمنه', 'هو', 'كلبس', 'الزنار', 'وإلقاء', 'المصحف', 'في', 'صريح', 'النجاسة', 'والسجود', 'للصنم', 'ونحو', 'ذلك', 'وسحر', 'محمد', 'قول', 'مالك', 'وأصحابه', 'أن', 'الساحر', 'كافر', 'بالله', 'تعالى', 'قال', 'مالك', 'هو', 'كالزنديق', 'إذا', 'عمل', 'السحر', 'بنفسه', 'قتل', 'ولم', 'يستتب', 'قوله', 'لعدم', 'ما', 'تتعلق', 'إلخ', 'أي', 'الوصية', 'قوله', 'ما', 'مر', 'أي', 'قبيل', 'قول', 'المتن', 'لغت', 'ولو', 'اقتصر', 'على', 'أوصيت', 'له', 'بشاة', 'أو', 'أعطوه', 'شاة', 'ولا', 'غنم', 'له', 'عند', 'الموت', 'هل']\n",
      "['قَوْلُهُ', 'أَوْ', 'قَطَعَ', 'الْأَوَّلُ', 'يَدَهُ', 'إلَخْ', 'قَالَ', 'الزَّرْكَشِيُّ', 'ابْنُ', 'عَرَفَةَ', 'قَوْلُهُ', 'بِلَفْظٍ', 'يَقْتَضِيه', 'كَإِنْكَارِ', 'غَيْرِ', 'حَدِيثٍ', 'بِالْإِسْلَامِ', 'وُجُوبَ', 'مَا', 'عُلِمَ', 'وُجُوبُهُ', 'مِنْ', 'الدِّينِ', 'ضَرُورَةً', 'كَإِلْقَاءِ', 'مُصْحَفٍ', 'بِقَذَرٍ', 'وَشَدِّ', 'زُنَّارٍ', 'ابْنُ', 'عَرَفَةَ', 'قَوْلُ', 'ابْنِ', 'شَاسٍ', 'أَوْ', 'بِفِعْلٍ', 'يَتَضَمَّنُهُ', 'هُوَ', 'كَلُبْسِ', 'الزُّنَّارِ', 'وَإِلْقَاءِ', 'الْمُصْحَفِ', 'فِي', 'صَرِيحِ', 'النَّجَاسَةِ', 'وَالسُّجُودِ', 'لِلصَّنَمِ', 'وَنَحْوِ', 'ذَلِكَ', 'وَسِحْرٍ', 'مُحَمَّدٌ', 'قَوْلُ', 'مَالِكٍ', 'وَأَصْحَابِهِ', 'أَنَّ', 'السَّاحِرَ', 'كَافِرٌ', 'بِاَللَّهِ', 'تَعَالَى', 'قَالَ', 'مَالِكٌ', 'هُوَ', 'كَالزِّنْدِيقِ', 'إذَا', 'عَمِلَ', 'السِّحْرَ', 'بِنَفْسِهِ', 'قُتِلَ', 'وَلَمْ', 'يُسْتَتَبْ', 'قَوْلُهُ', 'لِعَدَمِ', 'مَا', 'تَتَعَلَّقُ', 'إلَخْ', 'أَيْ', 'الْوَصِيَّةُ', 'قَوْلُهُ', 'مَا', 'مَرَّ', 'أَيْ', 'قُبَيْلَ', 'قَوْلِ', 'الْمَتْنِ', 'لَغَتْ', 'وَلَوْ', 'اقْتَصَرَ', 'عَلَى', 'أَوْصَيْت', 'لَهُ', 'بِشَاةٍ', 'أَوْ', 'أَعْطُوهُ', 'شَاةً', 'وَلَا', 'غَنَمَ', 'لَهُ', 'عِنْدَ', 'الْمَوْتِ', 'هَلْ']\n"
     ]
    }
   ],
   "source": [
    "# now the varable called longString has a single string with all the processed words in it \n",
    "listOfwordsWith_Diacritics=list()\n",
    "listOfwordsWith_NoDiacritics=list()\n",
    "\n",
    "\n",
    "without_diacritics= araby.strip_diacritics(longString)\n",
    "\n",
    "\n",
    "without_diacritics=re.sub(r\"\\s+\", ' ', without_diacritics)\n",
    "listOfwordsWith_NoDiacritics=without_diacritics.split(\" \")\n",
    "print(listOfwordsWith_NoDiacritics[0:100])\n",
    "\n",
    "\n",
    "listOfwordsWith_Diacritics=re.sub(r\"\\s+\", ' ', longString)\n",
    "listOfwordsWith_Diacritics=listOfwordsWith_Diacritics.split(\" \")\n",
    "print(listOfwordsWith_Diacritics[0:100])\n",
    "\n",
    "\n"
   ]
  },
  {
   "cell_type": "code",
   "execution_count": 49,
   "metadata": {},
   "outputs": [
    {
     "name": "stdout",
     "output_type": "stream",
     "text": [
      "2101285\n",
      "2101285\n"
     ]
    }
   ],
   "source": [
    "#now that we have two separated lists we need to get the dicritics list \n",
    "\n",
    "print(len(listOfwordsWith_Diacritics))\n",
    "print(len(listOfwordsWith_NoDiacritics))\n",
    "listofDiacritrcs_Toword=list()\n",
    "temp=list()\n",
    "# for word in listOfwordsWith_Diacritics:\n",
    "#     for char in word:\n",
    "#         if char in arabicCharacters:\n",
    "#             continue\n",
    "#         else:\n",
    "#             temp"
   ]
  }
 ],
 "metadata": {
  "kernelspec": {
   "display_name": "base",
   "language": "python",
   "name": "python3"
  },
  "language_info": {
   "codemirror_mode": {
    "name": "ipython",
    "version": 3
   },
   "file_extension": ".py",
   "mimetype": "text/x-python",
   "name": "python",
   "nbconvert_exporter": "python",
   "pygments_lexer": "ipython3",
   "version": "3.11.2"
  }
 },
 "nbformat": 4,
 "nbformat_minor": 2
}
