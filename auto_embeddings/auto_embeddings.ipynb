{
 "cells": [
  {
   "cell_type": "code",
   "execution_count": 1,
   "metadata": {},
   "outputs": [],
   "source": [
    "from transformers import AutoTokenizer, AutoModel, AutoConfig\n",
    "import torch"
   ]
  },
  {
   "cell_type": "code",
   "execution_count": null,
   "metadata": {},
   "outputs": [],
   "source": [
    "tokenizer= AutoTokenizer.from_pretrained(\"asafaya/bert-base-arabic\")\n",
    "model= AutoModel.from_pretrained(\"asafaya/bert-base-arabic\")\n",
    "\n",
    "def get_embeddings(text):\n",
    "    tokens= tokenizer(text,return_tensors=\"pt\", truncation=True, max_length=512)\n",
    "    model_output= model(**tokens)\n",
    "\n",
    "    return model_output.last_hidden_state.detach().numpy()\n",
    "\n",
    "\n",
    "train_embeddings=[get_embeddings(line) for line in file_content]\n",
    "val_embeddings=[get_embeddings(line) for line in file_content_2]\n",
    "\n",
    "print(\"Train embeddings:\", len(train_embeddings))\n",
    "print(\"val embeddings:\", len(val_embeddings))"
   ]
  }
 ],
 "metadata": {
  "kernelspec": {
   "display_name": "nlp-env",
   "language": "python",
   "name": "python3"
  },
  "language_info": {
   "codemirror_mode": {
    "name": "ipython",
    "version": 3
   },
   "file_extension": ".py",
   "mimetype": "text/x-python",
   "name": "python",
   "nbconvert_exporter": "python",
   "pygments_lexer": "ipython3",
   "version": "3.11.1"
  }
 },
 "nbformat": 4,
 "nbformat_minor": 2
}
